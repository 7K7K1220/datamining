{
 "cells": [
  {
   "cell_type": "markdown",
   "metadata": {},
   "source": [
    " 《Python数据挖掘方法及应用》PyDm\n",
    "# 【第1章 数据收集与分析软件】notes 1 \n",
    "## **edited from professor Binghui Wang**\n",
    "## jupyter快捷键"
   ]
  },
  {
   "cell_type": "code",
   "execution_count": null,
   "metadata": {},
   "outputs": [],
   "source": [
    "# jupyter快捷键（jupyter有两个模式，命令模式和编辑模式）\n",
    "\n",
    " \n",
    "\n",
    "# 　　当前cell侧边为蓝色时，表示此时为命令模式，按Enter切换为编辑模式\n",
    "\n",
    "# 　　当前cell侧边为绿色时，表示此时为编辑模式，按Esc切换为命令模式\n",
    "\n",
    "# 命令模式快捷键：\n",
    "\n",
    "# 　　双击D：删除当前cell\n",
    "# 　　Shift-Enter：运行当前cell并跳转到下一cell\n",
    "# 　　Alt-Enter：运行当前cell并在下方新建cell\n",
    "# 　　Tab：代码补全\n",
    "# 　　A：在上方新建cell\n",
    "# 　　B：在下方新建cell\n",
    "# 　　L：为当前cell的代码添加行编号\n",
    "# 　　Shift-M：合并所选cell或合并当前cell和下方的cell\n",
    "# 　　Y：把当前cell内容转换为代码形式\n",
    "# 　　M：把当前cell内容转换为markdown形式\n",
    "# 　　H：显示快捷键帮助\n",
    "# 　　F：查找和替换\n",
    "# 　　P：打开命令面板\n",
    "# 　　Ctrl-Enter：运行当前cell\n",
    "# 　　1~6：把当前cell内容设置为标题1~6格式\n",
    "# 　　Shift+上下键：按住Shift进行上下键操作可复选多个cell\n",
    "\n",
    "# 　　L:显示行号\n",
    "\n",
    "# plt绘图显示中文\n",
    "\n",
    "# import matplotlib.pyplot as plt\n",
    "# plt.rc(‘font‘, family=‘SimHei‘, size=13)"
   ]
  },
  {
   "cell_type": "markdown",
   "metadata": {},
   "source": [
    "# notes\n",
    "## 导入函数\n",
    "\n"
   ]
  },
  {
   "cell_type": "code",
   "execution_count": 3,
   "metadata": {},
   "outputs": [],
   "source": [
    "\"\"\"\n",
    "###   Python数据挖掘方法及应用（PyDm）\n",
    "###   函数库 PyDm_code.py\n",
    "###   数据框 PyDm_data.xlsx\n",
    "###   王斌会 王术 2018-6-2\n",
    "\"\"\"\n",
    "## -*- coding: utf-8 -*-\n",
    "\n",
    "import numpy as np\n",
    "import pandas as pd\n",
    "import matplotlib.pyplot as plt\n",
    "import scipy.stats as st\n",
    "\n",
    "def tab(x,plot=False): #计数频数表和绘图\n",
    "   f=x.value_counts();f\n",
    "   s=sum(f);\n",
    "   p=round(f/s*100,3);p\n",
    "   T1=pd.concat([f,p],axis=1);\n",
    "   T1.columns=['例数','构成比'];\n",
    "   T2=pd.DataFrame({'例数':s,'构成比':100.00},index=['合计'])\n",
    "   Tab=T1.append(T2)\n",
    "   if plot:\n",
    "     fig,ax = plt.subplots(1,2,figsize=(15,6))\n",
    "     ax[0].bar(f.index,f); # 条图\n",
    "     ax[1].pie(p,labels=p.index);  # 饼图\n",
    "   return(round(Tab,3))\n",
    "\n",
    "def freq(X,bins=10,density=False): #计量频数表与直方图\n",
    "    if density:\n",
    "        H=plt.hist(X,bins,density=density)\n",
    "        plt.plot(H[1],st.norm.pdf(H[1]),color='r');\n",
    "    else:\n",
    "       H=plt.hist(X,bins);\n",
    "    a=H[1][:-1];a\n",
    "    b=H[1][1:];b\n",
    "    f=H[0];f\n",
    "    p=f/sum(f)*100;p\n",
    "    cp=np.cumsum(p);cp\n",
    "    Freq=pd.DataFrame([a,b,f,p,cp],index=['[下限','上限)','频数','频率(%)','累计频数(%)'])\n",
    "    return(round(Freq.T,2))\n",
    "\n",
    "def stats(x): #基本统计量\n",
    "    stat=[x.count(),x.min(),x.quantile(.25),x.mean(),x.median(),\n",
    "           x.quantile(.75),x.max(),x.max()-x.min(),x.var(),x.std(),x.skew(),x.kurt()]\n",
    "    stat=pd.Series(stat,index=['Count','Min', 'Q1(25%)','Mean','Median',\n",
    "                               'Q3(75%)','Max','Range','Var','Std','Skew','Kurt'])\n",
    "    return(stat)\n",
    "\n",
    "def norm_p(a=-2,b=2): ### 正态曲线面积图\n",
    "    x=np.arange(-4,4,0.1)\n",
    "    y=st.norm.pdf(x)\n",
    "    x1=x[(a<=x) & (x<=b)];x1\n",
    "    y1=y[(a<=x) & (x<=b)];y1\n",
    "    p=st.norm.cdf(b)-st.norm.cdf(a);p\n",
    "    #plt.title(\"N(0,1)分布: [%6.3f %6.3f] p=%6.4f\"%(a,b,p))\n",
    "    plt.plot(x,y);\n",
    "    plt.hlines(0,-4,4);\n",
    "    plt.vlines(x1,0,y1,colors='r');\n",
    "    plt.text(-0.5,0.2,\"%5.2f％\" % (p*100.0),fontsize=15);\n",
    "\n",
    "#norm_p(1.6,4)\n",
    "#norm_p(1.24,4)\n",
    "#norm_p(-0.67,4)\n",
    "\n",
    "def t_p(a=-2,b=2,df=10,k=0.1):\n",
    "    x=np.arange(-4,4,k)\n",
    "    y=st.t.pdf(x,df)\n",
    "    x1=x[(a<=x) & (x<=b)];x1\n",
    "    y1=y[(a<=x) & (x<=b)];y1\n",
    "    p=st.t.cdf(b,df)-st.t.cdf(a,df);p\n",
    "    plt.plot(x,y);\n",
    "    plt.title(\"t(%2d): [%6.3f %6.3f] p=%6.4f\"%(df,a,b,p))\n",
    "    plt.hlines(0,-4,4); plt.vlines(x1,0,y1,colors='r');\n",
    "    plt.text(-0.5,0.2,\"p=%6.4f\" % p,fontsize=15);\n",
    "\n",
    "from math import sqrt\n",
    "def t_interval(b,x):\n",
    "    a=1-b\n",
    "    n = len(x)\n",
    "    ta=st.t.ppf(1-a/2,n-1);ta\n",
    "    se=x.std()/sqrt(n)\n",
    "    return(x.mean()-ta*se, x.mean()+se*ta)\n",
    "#t_interval(0.95,BSdata['身高'])\n",
    "\n",
    "def ttest_1plot(X,mu=0): # 单样本均值t检验图\n",
    "    k=0.1\n",
    "    df=len(X)-1\n",
    "    t1p=st.ttest_1samp(X, popmean = mu);\n",
    "    x=np.arange(-4,4,k); y=st.t.pdf(x,df)\n",
    "    t=abs(t1p[0]);p=t1p[1]\n",
    "    x1=x[x<=-t]; y1=y[x<=-t];\n",
    "    x2=x[x>=t]; y2=y[x>=t];\n",
    "    print(\"  单样本t检验\\t t=%6.3f p=%6.4f\"%(t,p))\n",
    "    print(\"  t置信区间: \",st.t.interval(0.95,len(X)-1,X.mean(),X.std()))\n",
    "    plt.plot(x,y); plt.hlines(0,-4,4);\n",
    "    plt.vlines(x1,0,y1,colors='r'); plt.vlines(x2,0,y2,colors='r');\n",
    "    plt.text(-0.5,0.05,\"p=%6.4f\" % t1p[1],fontsize=15);\n",
    "    plt.vlines(st.t.ppf(0.05/2,df),0,0.2,colors='b');\n",
    "    plt.vlines(-st.t.ppf(0.05/2,df),0,0.2,colors='b');\n",
    "    plt.text(-0.5,0.2,r\"$\\alpha$=%3.2f\"%0.05,fontsize=15);\n",
    "\n",
    "def reglinedemo(n=20):    #模拟直线回归\n",
    "    x=np.arange(n)+1\n",
    "    e=np.random.normal(0,1,n)\n",
    "    y=2+0.5*x+e\n",
    "    import statsmodels.api as sm\n",
    "    x1=sm.add_constant(x);x1\n",
    "    fm=sm.OLS(y,x1).fit();fm\n",
    "    plt.plot(x,y,'.',x,fm.fittedvalues,'r-'); #添加回归线，红色\n",
    "    for i in range(len(x)):\n",
    "        plt.vlines(x,y,fm.fittedvalues,linestyles='dotted',colors='b');\n",
    "#reglinedemo(30);   #最小二乘回归示意图---直线回归"
   ]
  },
  {
   "cell_type": "markdown",
   "metadata": {},
   "source": [
    "## 导入数据\n"
   ]
  },
  {
   "cell_type": "code",
   "execution_count": 5,
   "metadata": {},
   "outputs": [
    {
     "data": {
      "text/html": [
       "<div>\n",
       "<style scoped>\n",
       "    .dataframe tbody tr th:only-of-type {\n",
       "        vertical-align: middle;\n",
       "    }\n",
       "\n",
       "    .dataframe tbody tr th {\n",
       "        vertical-align: top;\n",
       "    }\n",
       "\n",
       "    .dataframe thead th {\n",
       "        text-align: right;\n",
       "    }\n",
       "</style>\n",
       "<table border=\"1\" class=\"dataframe\">\n",
       "  <thead>\n",
       "    <tr style=\"text-align: right;\">\n",
       "      <th></th>\n",
       "      <th>学号</th>\n",
       "      <th>性别</th>\n",
       "      <th>身高</th>\n",
       "      <th>体重</th>\n",
       "      <th>支出</th>\n",
       "      <th>开设</th>\n",
       "      <th>课程</th>\n",
       "      <th>软件</th>\n",
       "    </tr>\n",
       "  </thead>\n",
       "  <tbody>\n",
       "    <tr>\n",
       "      <th>0</th>\n",
       "      <td>1510248008</td>\n",
       "      <td>女</td>\n",
       "      <td>167</td>\n",
       "      <td>71</td>\n",
       "      <td>46.0</td>\n",
       "      <td>不清楚</td>\n",
       "      <td>都未学过</td>\n",
       "      <td>No</td>\n",
       "    </tr>\n",
       "    <tr>\n",
       "      <th>1</th>\n",
       "      <td>1510229019</td>\n",
       "      <td>男</td>\n",
       "      <td>171</td>\n",
       "      <td>68</td>\n",
       "      <td>10.4</td>\n",
       "      <td>有必要</td>\n",
       "      <td>概率统计</td>\n",
       "      <td>Matlab</td>\n",
       "    </tr>\n",
       "    <tr>\n",
       "      <th>2</th>\n",
       "      <td>1512108019</td>\n",
       "      <td>女</td>\n",
       "      <td>175</td>\n",
       "      <td>73</td>\n",
       "      <td>21.0</td>\n",
       "      <td>有必要</td>\n",
       "      <td>统计方法</td>\n",
       "      <td>SPSS</td>\n",
       "    </tr>\n",
       "    <tr>\n",
       "      <th>3</th>\n",
       "      <td>1512332010</td>\n",
       "      <td>男</td>\n",
       "      <td>169</td>\n",
       "      <td>74</td>\n",
       "      <td>4.9</td>\n",
       "      <td>有必要</td>\n",
       "      <td>编程技术</td>\n",
       "      <td>Excel</td>\n",
       "    </tr>\n",
       "    <tr>\n",
       "      <th>4</th>\n",
       "      <td>1512331015</td>\n",
       "      <td>男</td>\n",
       "      <td>154</td>\n",
       "      <td>55</td>\n",
       "      <td>25.9</td>\n",
       "      <td>有必要</td>\n",
       "      <td>都学习过</td>\n",
       "      <td>Python</td>\n",
       "    </tr>\n",
       "    <tr>\n",
       "      <th>5</th>\n",
       "      <td>1516248014</td>\n",
       "      <td>男</td>\n",
       "      <td>183</td>\n",
       "      <td>76</td>\n",
       "      <td>85.6</td>\n",
       "      <td>不必要</td>\n",
       "      <td>编程技术</td>\n",
       "      <td>Excel</td>\n",
       "    </tr>\n",
       "  </tbody>\n",
       "</table>\n",
       "</div>"
      ],
      "text/plain": [
       "           学号 性别   身高  体重    支出   开设    课程      软件\n",
       "0  1510248008  女  167  71  46.0  不清楚  都未学过      No\n",
       "1  1510229019  男  171  68  10.4  有必要  概率统计  Matlab\n",
       "2  1512108019  女  175  73  21.0  有必要  统计方法    SPSS\n",
       "3  1512332010  男  169  74   4.9  有必要  编程技术   Excel\n",
       "4  1512331015  男  154  55  25.9  有必要  都学习过  Python\n",
       "5  1516248014  男  183  76  85.6  不必要  编程技术   Excel"
      ]
     },
     "execution_count": 5,
     "metadata": {},
     "output_type": "execute_result"
    }
   ],
   "source": [
    "\n",
    "### 读数据xlsx（本地）\n",
    "BSdata=pd.read_excel('PyDm_data.xlsx','BSdata'); BSdata[:6]\n",
    "### 读数据csv（云端）\n",
    "#url2='http://leanote.com/api/file/getAttach?fileId=5abbb3aaab6441507e002167'\n",
    "#dat2=pd.read_excel(url2,'BSdata'); dat2\n",
    "\n",
    "#\n",
    "#第1章 数据收集与软件应用\n",
    "##1.3 Python编程基础\n",
    "#### 1.3.1.1 Python的工作目录\n",
    "# '''获得当前目录'''\n",
    "# pwd\n",
    "# '''改变工作目录'''\n",
    "# cd \"D:\\\\PyDm\"\n",
    "# pwd\n",
    "\n",
    "# !dir\n",
    "\n",
    "\n",
    "\n"
   ]
  },
  {
   "cell_type": "code",
   "execution_count": 6,
   "metadata": {},
   "outputs": [
    {
     "data": {
      "text/plain": [
       "'/Users/susan/Desktop/pythonjupyter/dataminging202009'"
      ]
     },
     "execution_count": 6,
     "metadata": {},
     "output_type": "execute_result"
    }
   ],
   "source": [
    "pwd\n"
   ]
  },
  {
   "cell_type": "markdown",
   "metadata": {},
   "source": [
    "## Python编程基础\n"
   ]
  },
  {
   "cell_type": "code",
   "execution_count": 9,
   "metadata": {},
   "outputs": [
    {
     "name": "stdout",
     "output_type": "stream",
     "text": [
      "BSdata\t freq\t norm_p\t np\t pd\t plt\t reglinedemo\t sqrt\t st\t \n",
      "stats\t t_interval\t t_p\t tab\t ttest_1plot\t x\t \n"
     ]
    }
   ],
   "source": [
    "###1.3.2 Python基本数据类型\n",
    "####1.3.2.1 数据对象及类型\n",
    "#列举当前环境中的对象名\n",
    "%who\n",
    "\n"
   ]
  },
  {
   "cell_type": "code",
   "execution_count": 11,
   "metadata": {},
   "outputs": [
    {
     "name": "stdout",
     "output_type": "stream",
     "text": [
      "Variable      Type                          Data/Info\n",
      "-----------------------------------------------------\n",
      "BSdata        DataFrame                                 学号 性别   身高  体<...>  56.8  不必要  概率统计     SAS\n",
      "freq          function                      <function freq at 0x11d3d90d0>\n",
      "norm_p        function                      <function norm_p at 0x1291e8a60>\n",
      "np            module                        <module 'numpy' from '/an<...>kages/numpy/__init__.py'>\n",
      "pd            module                        <module 'pandas' from '/a<...>ages/pandas/__init__.py'>\n",
      "plt           module                        <module 'matplotlib.pyplo<...>es/matplotlib/pyplot.py'>\n",
      "reglinedemo   function                      <function reglinedemo at 0x12933f268>\n",
      "sqrt          builtin_function_or_method    <built-in function sqrt>\n",
      "st            module                        <module 'scipy.stats' fro<...>scipy/stats/__init__.py'>\n",
      "stats         function                      <function stats at 0x1291e8840>\n",
      "t_interval    function                      <function t_interval at 0x12933f158>\n",
      "t_p           function                      <function t_p at 0x12933a0d0>\n",
      "tab           function                      <function tab at 0x10fcf2950>\n",
      "ttest_1plot   function                      <function ttest_1plot at 0x12933f1e0>\n",
      "x             int                           10\n"
     ]
    }
   ],
   "source": [
    "x=10   #创建对象x\n",
    "%whos\n"
   ]
  },
  {
   "cell_type": "code",
   "execution_count": 12,
   "metadata": {},
   "outputs": [
    {
     "data": {
      "text/plain": [
       "['BSdata',\n",
       " 'freq',\n",
       " 'norm_p',\n",
       " 'np',\n",
       " 'pd',\n",
       " 'plt',\n",
       " 'reglinedemo',\n",
       " 'sqrt',\n",
       " 'st',\n",
       " 'stats',\n",
       " 't_interval',\n",
       " 't_p',\n",
       " 'tab',\n",
       " 'ttest_1plot']"
      ]
     },
     "execution_count": 12,
     "metadata": {},
     "output_type": "execute_result"
    }
   ],
   "source": [
    "del x   #删除对象x\n",
    "%who_ls\n",
    "\n"
   ]
  },
  {
   "cell_type": "code",
   "execution_count": 13,
   "metadata": {},
   "outputs": [
    {
     "name": "stdout",
     "output_type": "stream",
     "text": [
      "n= 10\n",
      "x=  10.23400\n"
     ]
    }
   ],
   "source": [
    "####1.3.2.2 数据基本类型\n",
    "#数字\n",
    "n=10       #整数\n",
    "n\n",
    "print(\"n=\",n)\n",
    "x=10.234   #实数\n",
    "x\n",
    "print(\"x=%10.5f\"%x)\n"
   ]
  },
  {
   "cell_type": "code",
   "execution_count": 14,
   "metadata": {},
   "outputs": [
    {
     "data": {
      "text/plain": [
       "False"
      ]
     },
     "execution_count": 14,
     "metadata": {},
     "output_type": "execute_result"
    }
   ],
   "source": [
    "\n",
    "a=True;a\n",
    "b=False;b\n",
    "\n",
    "10>3\n",
    "10<3\n",
    "\n",
    "\n"
   ]
  },
  {
   "cell_type": "code",
   "execution_count": 15,
   "metadata": {},
   "outputs": [
    {
     "data": {
      "text/plain": [
       "'I love PythonI love Python'"
      ]
     },
     "execution_count": 15,
     "metadata": {},
     "output_type": "execute_result"
    }
   ],
   "source": [
    "# 字符串\n",
    "s = 'I love Python';s\n",
    "s[7]\n",
    "s[2:6]\n",
    "s+s\n",
    "s*2\n",
    "\n"
   ]
  },
  {
   "cell_type": "code",
   "execution_count": 16,
   "metadata": {},
   "outputs": [
    {
     "data": {
      "text/plain": [
       "nan"
      ]
     },
     "execution_count": 16,
     "metadata": {},
     "output_type": "execute_result"
    }
   ],
   "source": [
    "float('nan')\n",
    "\n"
   ]
  },
  {
   "cell_type": "code",
   "execution_count": 17,
   "metadata": {},
   "outputs": [
    {
     "data": {
      "text/plain": [
       "['Python', 786, 2.23, 'R', 70.2, 2.23, 'R']"
      ]
     },
     "execution_count": 17,
     "metadata": {},
     "output_type": "execute_result"
    }
   ],
   "source": [
    "####1.3.3.3 标准数据类型\n",
    "#（1）List（列表）\n",
    "list1 =[] # 空列表\n",
    "list1\n",
    "list1 = ['Python', 786 , 2.23, 'R', 70.2]\n",
    "list1 # 输出完整列表\n",
    "list1[0] # 输出列表的第一个元素\n",
    "list1[1:3] # 输出第二个至第三个元素\n",
    "list1[2:] # 输出从第三个开始至列表末尾的所有元素\n",
    "list1 * 2 # 输出列表两次\n",
    "list1 + list1[2:4] # 打印组合的列表\n",
    "\n"
   ]
  },
  {
   "cell_type": "code",
   "execution_count": 19,
   "metadata": {},
   "outputs": [
    {
     "data": {
      "text/plain": [
       "[67, 66, 83, 68, 70]"
      ]
     },
     "execution_count": 19,
     "metadata": {},
     "output_type": "execute_result"
    }
   ],
   "source": [
    "X=[1,3,6,4,9]; X\n",
    "sex=['女','男','男','女','男']\n",
    "sex\n",
    "weight=[67,66,83,68,70];\n",
    "weight\n",
    "\n"
   ]
  },
  {
   "cell_type": "code",
   "execution_count": null,
   "metadata": {},
   "outputs": [],
   "source": [
    "# 向 list 中增加元素\n",
    "\n",
    "# 1.使用append  向list 的末尾追加单个元素。(把列表当做堆栈使用——后进（后出）)\n",
    "#listA = ['a', 'b', 'c', 1, 2, 3]\n",
    "listA.append(3)\n",
    "\n",
    "# 2.使用 insert  将单个元素插入到list 中。数值参数是插入点的索引\n",
    "# 在下标为3处插入一个元素，listA = ['a', 'b', 'c', 'd', 1, 2, 3]\n",
    "listA.insert(3, 'd') \n",
    "\n",
    "# 3.使用 extend 用来连接 list\n",
    "# listA = ['a', 'b', 'c', 'd', 1, 2, 3, 7, 8]\n",
    "listA.extend([7, 8])\n",
    "\n",
    "# 获取列表的长度\n",
    "print len(listA)  # 9\n",
    "\n",
    "# 在 list 中搜索\n",
    "listA.index(3)  # index 在 list 中查找一个值的首次出现并返回索引值。\n",
    "listA.index('100')  # 如果在 list 中没有找到值，Python 会引发一个异常。\n",
    "\n",
    "print 5 in listA  # 要测试一个值是否在 list 内，使用 in。如果值存在，它返回 True，否则返为 False 。\n",
    "\n",
    "# 从 list 中删除元素\n",
    "listA.remove(3)  # remove 从 list 中 仅仅 删除一个值的首次出现。如果在 list 中没有找到值，Python 会引发一个异常\n",
    "\n",
    "print listA.pop()  # pop 它会做两件事：删除 list 的最后一个元素，然后返回删除元素的值。(把列表当做堆栈使用——（后进）后出)\n",
    "\n",
    "# 还有一种把列表当做队列使用，最先进入的元素最先释放（先进先出）\n",
    "# 不过，列表这样用效率不高。相对来说从列表末尾添加和弹出很快；\n",
    "# 在头部插入和弹出很慢（因为，为了一个元素，要移动整个列表中的所有元素）。\n",
    "\n",
    "# 遍历list\n",
    "for item in listA:\n",
    "    print item"
   ]
  },
  {
   "cell_type": "code",
   "execution_count": null,
   "metadata": {},
   "outputs": [],
   "source": [
    "# extend (扩展) 与 append (追加) 的看起来类似，但实际上完全不同。\n",
    "\n",
    "# extend 接受一个参数，这个参数总是一个 list，并且把这个 list 中的每个元素添加到原 list 中。\n",
    "# append 接受一个参数，这个参数可以是任何数据类型，并且简单地追加到 list 的尾部。\n"
   ]
  },
  {
   "cell_type": "code",
   "execution_count": 36,
   "metadata": {},
   "outputs": [
    {
     "data": {
      "text/plain": [
       "'a'"
      ]
     },
     "execution_count": 36,
     "metadata": {},
     "output_type": "execute_result"
    }
   ],
   "source": [
    "#（2）Tuple（元组）\n",
    "#定义一个元组\n",
    "tuple1 = (1,2,'a',4,'5',6)\n",
    "\n",
    "# 定义了一个元组之后就无法再添加或修改元组中的元素，其他和list一样\n",
    "\n",
    "tuple1[2] # 'a' 元组的元素都有确定的顺序。元组的索引也是以0为基点的\n"
   ]
  },
  {
   "cell_type": "code",
   "execution_count": 37,
   "metadata": {},
   "outputs": [
    {
     "data": {
      "text/plain": [
       "6"
      ]
     },
     "execution_count": 37,
     "metadata": {},
     "output_type": "execute_result"
    }
   ],
   "source": [
    "tuple1[-1] # '5' 负的索引从元组的尾部开始计数\n"
   ]
  },
  {
   "cell_type": "code",
   "execution_count": 38,
   "metadata": {},
   "outputs": [
    {
     "data": {
      "text/plain": [
       "(2, 'a')"
      ]
     },
     "execution_count": 38,
     "metadata": {},
     "output_type": "execute_result"
    }
   ],
   "source": [
    "tuple1[1:3] # (2, 'a')  元组也可以进行切片操作。对元组切片可以得到（返回）新的元组，原元组不变\n",
    "\n"
   ]
  },
  {
   "cell_type": "code",
   "execution_count": 42,
   "metadata": {},
   "outputs": [
    {
     "name": "stdout",
     "output_type": "stream",
     "text": [
      "True\n"
     ]
    }
   ],
   "source": [
    "# 可以使用 in 运算符检查某元素是否存在于元组中。\n",
    "print (1 in tuple1)   # True\n",
    "\n"
   ]
  },
  {
   "cell_type": "code",
   "execution_count": 43,
   "metadata": {},
   "outputs": [
    {
     "name": "stdout",
     "output_type": "stream",
     "text": [
      "1\n",
      "2\n",
      "a\n",
      "4\n",
      "5\n",
      "6\n"
     ]
    }
   ],
   "source": [
    "#使用for in 进行遍历元组\n",
    "for item in tuple1:\n",
    "    print (item)\n",
    "\n"
   ]
  },
  {
   "cell_type": "code",
   "execution_count": 44,
   "metadata": {},
   "outputs": [
    {
     "name": "stdout",
     "output_type": "stream",
     "text": [
      "1\n",
      "2\n",
      "a\n",
      "4\n",
      "5\n",
      "6\n"
     ]
    }
   ],
   "source": [
    "# 如果需要获取item的序号 可以使用下面的遍历方法：\n",
    "for index in range(len(tuple1)):   #range(len(tuple1))就是生成一个自然排序列表\n",
    "    print (tuple1[index])\n"
   ]
  },
  {
   "cell_type": "code",
   "execution_count": 45,
   "metadata": {},
   "outputs": [
    {
     "name": "stdout",
     "output_type": "stream",
     "text": [
      "0, 1\n",
      "1, 2\n",
      "2, a\n",
      "3, 4\n",
      "4, 5\n",
      "5, 6\n"
     ]
    }
   ],
   "source": [
    "\n",
    "# 还可以使用内置的enumerate函数\n",
    "for index, item in enumerate(tuple1):\n",
    "    print ('%i, %s' % (index, item))"
   ]
  },
  {
   "cell_type": "code",
   "execution_count": 20,
   "metadata": {},
   "outputs": [
    {
     "data": {
      "text/plain": [
       "{'sex': ['女', '男', '男', '女', '男'], 'weight': [67, 66, 83, 68, 70]}"
      ]
     },
     "execution_count": 20,
     "metadata": {},
     "output_type": "execute_result"
    }
   ],
   "source": [
    "\n",
    "#（3）Dictionary（字典）\n",
    "#字典\n",
    "# 　字典定义了键和值之间一对一的关系,但它们是以无序的方式储存的。 Python 中的 dictionary 像 Java 中的 Hashtable 类的实例。定义 Dictionary 使用一对大(花)括号” { } “\n",
    "\n",
    "# Dictionary 不只是用于存储字符串。Dictionary 的值可以是任意数据类型，包括字符串、整数、对象，甚至其它的 dictionary。\n",
    "# 在单个 dictionary 里，dictionary 的值并不需要全都是同一数据类型，可以根据需要混用和匹配。\n",
    "\n",
    "{}            #空字典\n",
    "dict1={'name':'john','code':6734,'dept':'sales'};dict1 #定义字典\n",
    "dict1['code']  # 输出键为'code' 的值\n",
    "dict1.keys()   # 输出所有键\n",
    "dict1.values() # 输出所有值\n",
    "\n",
    "dict2={'sex': sex,'weight':weight}; dict2 #根据列表构成字典\n",
    "\n"
   ]
  },
  {
   "cell_type": "code",
   "execution_count": 48,
   "metadata": {},
   "outputs": [
    {
     "name": "stdout",
     "output_type": "stream",
     "text": [
      "0\n",
      "1\n"
     ]
    }
   ],
   "source": [
    "# (4)集合（Set）\n",
    "# 　　Python的集合(set)和其他语言类似, 是一个无序不重复元素集, 基本功能包括关系测试和消除重复元素. 集合对象还支持union(联合), intersection(交), difference(差)和sysmmetric difference(对称差集)等数学运算.由于集合是无序的,所以，sets 不支持 索引, 分片, 或其它类序列（sequence-like）的操作。\n",
    "\n",
    "# 集合也存在不可变形式,frozenset为固定集合.\n",
    "# set和dict类似，也是一组key的集合，但不存储value。由于key不能重复，所以，在set中，没有重复的key。\n",
    "# 注意：想要创建空集合，你必须使用 set() 而不是 {} ，后者用于创建空字典\n",
    "# 可以通过一个set函数转换成集合，如：\n",
    "lst = [ 1, 1, 0]\n",
    "\n",
    "lst_set = set( lst )  #lst_set 为1 , 0\n",
    "\n",
    "tup = (2, 2, 1)\n",
    "\n",
    "tup_set = set( tup) # tup_set为2 , 1\n",
    "\n",
    "for item in lst_set:\n",
    "    print (item)"
   ]
  },
  {
   "cell_type": "code",
   "execution_count": null,
   "metadata": {},
   "outputs": [],
   "source": [
    "# 使用 set 函数创建集合\n",
    "list1 = [6, 7, 7, 8, 8, 9]\n",
    "set2 = set(list1)\n",
    "\n",
    "set2.add(10)  # 添加新元素\n",
    "print set2  # set([8, 9, 10, 6, 7])  去掉重复内容,而且是无序的\n",
    "\n",
    "set3 = frozenset(list1)\n",
    "#set3.add(10)  # 固定集合不能添加元素，会报错AttributeError: 'frozenset' object has no attribute 'add'\n",
    "\n",
    "### 集合有并集，交集，求差操作\n",
    "### a & b 并集：intersection() 方法返回一个新集合，包含在两个集合中同时出现的所有元素。\n",
    "### a | b 交集：union() 方法返回一个新集合，包含在两个 集合中出现的元素。\n",
    "### a - b 差集：difference() 方法返回的新集合中，包含所有在 集合A出现但未在集合B中的元素。\n",
    "### a ^ b 对称差集：symmetric_difference() 方法返回一个新集合，包含所有只在其中一个集合中出现的元素。\n",
    "\n",
    "# 删除元素\n",
    "set2.discard(6)   # 当元素不存在时,不会引发异常\n",
    "set2.remove(6)    # 与discard的区别在于，如果没有要删除的元素，remove会引发一个异常\n",
    "set2.pop()  # 因为set是无序的，所以pop会随机的从set中删除一个元素"
   ]
  },
  {
   "cell_type": "code",
   "execution_count": 21,
   "metadata": {},
   "outputs": [
    {
     "data": {
      "text/plain": [
       "array([-1.42198938,  0.46709488, -0.09103334, -1.57503333,  0.96091646,\n",
       "       -0.0378621 , -0.81247843,  0.03824071, -1.63542792, -0.68610008])"
      ]
     },
     "execution_count": 21,
     "metadata": {},
     "output_type": "execute_result"
    }
   ],
   "source": [
    "###1.3.3 数值分析库numpy\n",
    "####1.3.3.1 一维数组\n",
    "import numpy as np       #加载数组包\n",
    "np.array([1,2,3,4,5])         #一维数组\n",
    "np.array([1,2,3,np.nan,5])    #包含缺失值的数组\n",
    "\n",
    "np.arange(9)             #数组序列\n",
    "np.arange(1,9,0.5)       #等差数列\n",
    "np.linspace(1,9,5)       #等距数列\n",
    "\n",
    "np.random.randint(1,9)   #1~9随机数\n",
    "np.random.rand(10)       #10个均匀随机数\n",
    "np.random.randn(10)      #10个正态随机数\n",
    "\n"
   ]
  },
  {
   "cell_type": "code",
   "execution_count": 22,
   "metadata": {},
   "outputs": [
    {
     "data": {
      "text/plain": [
       "array([[1, 2],\n",
       "       [3, 4],\n",
       "       [5, 6]])"
      ]
     },
     "execution_count": 22,
     "metadata": {},
     "output_type": "execute_result"
    }
   ],
   "source": [
    "####1.3.3.2 二维数组\n",
    "np.array([[1,2],[3,4],[5,6]])   #二维数组\n",
    "\n"
   ]
  },
  {
   "cell_type": "code",
   "execution_count": 23,
   "metadata": {},
   "outputs": [
    {
     "data": {
      "text/plain": [
       "array([[1., 0., 0.],\n",
       "       [0., 1., 0.],\n",
       "       [0., 0., 1.]])"
      ]
     },
     "execution_count": 23,
     "metadata": {},
     "output_type": "execute_result"
    }
   ],
   "source": [
    "####1.3.3.3. 数组的基本操作\n",
    "A=np.arange(9).reshape(3,3);A        #形成矩阵\n",
    "A.shape\n",
    "np.empty([3,3]) #空数组\n",
    "np.zeros((3,3)) #零矩阵\n",
    "np.ones((3,3))  #1矩阵\n",
    "np.eye(3) #单位阵\n",
    "\n"
   ]
  },
  {
   "cell_type": "code",
   "execution_count": 24,
   "metadata": {},
   "outputs": [
    {
     "data": {
      "text/plain": [
       "1    男\n",
       "2    男\n",
       "3    女\n",
       "dtype: object"
      ]
     },
     "execution_count": 24,
     "metadata": {},
     "output_type": "execute_result"
    }
   ],
   "source": [
    "###1.3.4 数据分析库pandas\n",
    "import pandas as pd   #加载数据分析包\n",
    "\n",
    "####1.3.4.1 序列: Seriers\n",
    "#（1）创建序列（向量、一维数组）\n",
    "pd.Series()           #生成空序列\n",
    "X=[1,3,6,4,9]\n",
    "S1=pd.Series(X);S1\n",
    "S2=pd.Series(weight);S2\n",
    "S3=pd.Series(sex);S3\n",
    "\n",
    "pd.concat([S2,S3],axis=0)    #按行并序列\n",
    "pd.concat([S2,S3],axis=1)    #按列并序列\n",
    "\n",
    "S1[2]\n",
    "S3[1:4]\n",
    "\n"
   ]
  },
  {
   "cell_type": "code",
   "execution_count": 25,
   "metadata": {},
   "outputs": [
    {
     "data": {
      "text/html": [
       "<div>\n",
       "<style scoped>\n",
       "    .dataframe tbody tr th:only-of-type {\n",
       "        vertical-align: middle;\n",
       "    }\n",
       "\n",
       "    .dataframe tbody tr th {\n",
       "        vertical-align: top;\n",
       "    }\n",
       "\n",
       "    .dataframe thead th {\n",
       "        text-align: right;\n",
       "    }\n",
       "</style>\n",
       "<table border=\"1\" class=\"dataframe\">\n",
       "  <thead>\n",
       "    <tr style=\"text-align: right;\">\n",
       "      <th></th>\n",
       "      <th>weight</th>\n",
       "    </tr>\n",
       "  </thead>\n",
       "  <tbody>\n",
       "    <tr>\n",
       "      <th>A</th>\n",
       "      <td>67</td>\n",
       "    </tr>\n",
       "    <tr>\n",
       "      <th>B</th>\n",
       "      <td>66</td>\n",
       "    </tr>\n",
       "    <tr>\n",
       "      <th>C</th>\n",
       "      <td>83</td>\n",
       "    </tr>\n",
       "    <tr>\n",
       "      <th>D</th>\n",
       "      <td>68</td>\n",
       "    </tr>\n",
       "    <tr>\n",
       "      <th>E</th>\n",
       "      <td>70</td>\n",
       "    </tr>\n",
       "  </tbody>\n",
       "</table>\n",
       "</div>"
      ],
      "text/plain": [
       "   weight\n",
       "A      67\n",
       "B      66\n",
       "C      83\n",
       "D      68\n",
       "E      70"
      ]
     },
     "execution_count": 25,
     "metadata": {},
     "output_type": "execute_result"
    }
   ],
   "source": [
    "####1.3.4.2 数据框: DataFrame\n",
    "#（1）根据列表创建数据框\n",
    "pd.DataFrame()      #生成空数据框\n",
    "pd.DataFrame(X, columns=['X'], index=range(5))\n",
    "pd.DataFrame(weight,columns=['weight'], index=['A','B','C','D','E'])\n",
    "\n"
   ]
  },
  {
   "cell_type": "code",
   "execution_count": 26,
   "metadata": {},
   "outputs": [
    {
     "data": {
      "text/html": [
       "<div>\n",
       "<style scoped>\n",
       "    .dataframe tbody tr th:only-of-type {\n",
       "        vertical-align: middle;\n",
       "    }\n",
       "\n",
       "    .dataframe tbody tr th {\n",
       "        vertical-align: top;\n",
       "    }\n",
       "\n",
       "    .dataframe thead th {\n",
       "        text-align: right;\n",
       "    }\n",
       "</style>\n",
       "<table border=\"1\" class=\"dataframe\">\n",
       "  <thead>\n",
       "    <tr style=\"text-align: right;\">\n",
       "      <th></th>\n",
       "      <th>sex</th>\n",
       "      <th>weight</th>\n",
       "    </tr>\n",
       "  </thead>\n",
       "  <tbody>\n",
       "    <tr>\n",
       "      <th>1</th>\n",
       "      <td>女</td>\n",
       "      <td>67</td>\n",
       "    </tr>\n",
       "    <tr>\n",
       "      <th>3</th>\n",
       "      <td>男</td>\n",
       "      <td>66</td>\n",
       "    </tr>\n",
       "    <tr>\n",
       "      <th>6</th>\n",
       "      <td>男</td>\n",
       "      <td>83</td>\n",
       "    </tr>\n",
       "    <tr>\n",
       "      <th>4</th>\n",
       "      <td>女</td>\n",
       "      <td>68</td>\n",
       "    </tr>\n",
       "    <tr>\n",
       "      <th>9</th>\n",
       "      <td>男</td>\n",
       "      <td>70</td>\n",
       "    </tr>\n",
       "  </tbody>\n",
       "</table>\n",
       "</div>"
      ],
      "text/plain": [
       "  sex  weight\n",
       "1   女      67\n",
       "3   男      66\n",
       "6   男      83\n",
       "4   女      68\n",
       "9   男      70"
      ]
     },
     "execution_count": 26,
     "metadata": {},
     "output_type": "execute_result"
    }
   ],
   "source": [
    "#（2）根据字典创建数据框\n",
    "'''通过字典列表生成数据框是Python较快捷的方式 '''\n",
    "df1=pd.DataFrame({'S1':S1,'S2':S2,'S3':S3});df1\n",
    "df2=pd.DataFrame({'sex':sex,'weight':weight},index=X);df2\n",
    "\n"
   ]
  },
  {
   "cell_type": "code",
   "execution_count": 27,
   "metadata": {},
   "outputs": [
    {
     "data": {
      "text/html": [
       "<div>\n",
       "<style scoped>\n",
       "    .dataframe tbody tr th:only-of-type {\n",
       "        vertical-align: middle;\n",
       "    }\n",
       "\n",
       "    .dataframe tbody tr th {\n",
       "        vertical-align: top;\n",
       "    }\n",
       "\n",
       "    .dataframe thead th {\n",
       "        text-align: right;\n",
       "    }\n",
       "</style>\n",
       "<table border=\"1\" class=\"dataframe\">\n",
       "  <thead>\n",
       "    <tr style=\"text-align: right;\">\n",
       "      <th></th>\n",
       "      <th>sex</th>\n",
       "      <th>weight</th>\n",
       "      <th>weight2</th>\n",
       "    </tr>\n",
       "  </thead>\n",
       "  <tbody>\n",
       "    <tr>\n",
       "      <th>1</th>\n",
       "      <td>女</td>\n",
       "      <td>67</td>\n",
       "      <td>4489</td>\n",
       "    </tr>\n",
       "    <tr>\n",
       "      <th>3</th>\n",
       "      <td>男</td>\n",
       "      <td>66</td>\n",
       "      <td>4356</td>\n",
       "    </tr>\n",
       "    <tr>\n",
       "      <th>6</th>\n",
       "      <td>男</td>\n",
       "      <td>83</td>\n",
       "      <td>6889</td>\n",
       "    </tr>\n",
       "    <tr>\n",
       "      <th>4</th>\n",
       "      <td>女</td>\n",
       "      <td>68</td>\n",
       "      <td>4624</td>\n",
       "    </tr>\n",
       "    <tr>\n",
       "      <th>9</th>\n",
       "      <td>男</td>\n",
       "      <td>70</td>\n",
       "      <td>4900</td>\n",
       "    </tr>\n",
       "  </tbody>\n",
       "</table>\n",
       "</div>"
      ],
      "text/plain": [
       "  sex  weight  weight2\n",
       "1   女      67     4489\n",
       "3   男      66     4356\n",
       "6   男      83     6889\n",
       "4   女      68     4624\n",
       "9   男      70     4900"
      ]
     },
     "execution_count": 27,
     "metadata": {},
     "output_type": "execute_result"
    }
   ],
   "source": [
    "#（3）增加数据框列\n",
    "df2['weight2']=df2.weight**2; df2   # 生成新列\n",
    "\n"
   ]
  },
  {
   "cell_type": "code",
   "execution_count": 28,
   "metadata": {},
   "outputs": [
    {
     "data": {
      "text/html": [
       "<div>\n",
       "<style scoped>\n",
       "    .dataframe tbody tr th:only-of-type {\n",
       "        vertical-align: middle;\n",
       "    }\n",
       "\n",
       "    .dataframe tbody tr th {\n",
       "        vertical-align: top;\n",
       "    }\n",
       "\n",
       "    .dataframe thead th {\n",
       "        text-align: right;\n",
       "    }\n",
       "</style>\n",
       "<table border=\"1\" class=\"dataframe\">\n",
       "  <thead>\n",
       "    <tr style=\"text-align: right;\">\n",
       "      <th></th>\n",
       "      <th>S2</th>\n",
       "      <th>S3</th>\n",
       "    </tr>\n",
       "  </thead>\n",
       "  <tbody>\n",
       "    <tr>\n",
       "      <th>1</th>\n",
       "      <td>66.0</td>\n",
       "      <td>男</td>\n",
       "    </tr>\n",
       "    <tr>\n",
       "      <th>3</th>\n",
       "      <td>68.0</td>\n",
       "      <td>女</td>\n",
       "    </tr>\n",
       "    <tr>\n",
       "      <th>4</th>\n",
       "      <td>70.0</td>\n",
       "      <td>男</td>\n",
       "    </tr>\n",
       "  </tbody>\n",
       "</table>\n",
       "</div>"
      ],
      "text/plain": [
       "     S2 S3\n",
       "1  66.0  男\n",
       "3  68.0  女\n",
       "4  70.0  男"
      ]
     },
     "execution_count": 28,
     "metadata": {},
     "output_type": "execute_result"
    }
   ],
   "source": [
    "#（4）删除数据框列\n",
    "del df2['weight2']; df2   #删除数据列\n",
    "\n",
    "df3=pd.DataFrame({'S2':S2,'S3':S3},index=S1);df3\n",
    "\n",
    "df3.isnull()#是缺失值返回True，否则范围False\n",
    "df3.isnull().sum()#返回每列包含的缺失值的个数\n",
    "df3.dropna()   #直接删除含有缺失值的行，多变量谨慎使用\n",
    "#df3.dropna(how = 'all')#只删除全是缺失值的行\n"
   ]
  },
  {
   "cell_type": "code",
   "execution_count": 29,
   "metadata": {},
   "outputs": [
    {
     "data": {
      "text/html": [
       "<div>\n",
       "<style scoped>\n",
       "    .dataframe tbody tr th:only-of-type {\n",
       "        vertical-align: middle;\n",
       "    }\n",
       "\n",
       "    .dataframe tbody tr th {\n",
       "        vertical-align: top;\n",
       "    }\n",
       "\n",
       "    .dataframe thead th {\n",
       "        text-align: right;\n",
       "    }\n",
       "</style>\n",
       "<table border=\"1\" class=\"dataframe\">\n",
       "  <thead>\n",
       "    <tr style=\"text-align: right;\">\n",
       "      <th></th>\n",
       "      <th>S2</th>\n",
       "      <th>S3</th>\n",
       "    </tr>\n",
       "  </thead>\n",
       "  <tbody>\n",
       "    <tr>\n",
       "      <th>3</th>\n",
       "      <td>68.0</td>\n",
       "      <td>女</td>\n",
       "    </tr>\n",
       "    <tr>\n",
       "      <th>1</th>\n",
       "      <td>66.0</td>\n",
       "      <td>男</td>\n",
       "    </tr>\n",
       "    <tr>\n",
       "      <th>4</th>\n",
       "      <td>70.0</td>\n",
       "      <td>男</td>\n",
       "    </tr>\n",
       "    <tr>\n",
       "      <th>6</th>\n",
       "      <td>NaN</td>\n",
       "      <td>NaN</td>\n",
       "    </tr>\n",
       "    <tr>\n",
       "      <th>9</th>\n",
       "      <td>NaN</td>\n",
       "      <td>NaN</td>\n",
       "    </tr>\n",
       "  </tbody>\n",
       "</table>\n",
       "</div>"
      ],
      "text/plain": [
       "     S2   S3\n",
       "3  68.0    女\n",
       "1  66.0    男\n",
       "4  70.0    男\n",
       "6   NaN  NaN\n",
       "9   NaN  NaN"
      ]
     },
     "execution_count": 29,
     "metadata": {},
     "output_type": "execute_result"
    }
   ],
   "source": [
    "#（5）数据框排序\n",
    "df3.sort_index()         #按index排序\n",
    "df3.sort_values(by='S3') #按列值排序\n",
    "\n"
   ]
  },
  {
   "cell_type": "code",
   "execution_count": 49,
   "metadata": {},
   "outputs": [
    {
     "data": {
      "text/html": [
       "<div>\n",
       "<style scoped>\n",
       "    .dataframe tbody tr th:only-of-type {\n",
       "        vertical-align: middle;\n",
       "    }\n",
       "\n",
       "    .dataframe tbody tr th {\n",
       "        vertical-align: top;\n",
       "    }\n",
       "\n",
       "    .dataframe thead th {\n",
       "        text-align: right;\n",
       "    }\n",
       "</style>\n",
       "<table border=\"1\" class=\"dataframe\">\n",
       "  <thead>\n",
       "    <tr style=\"text-align: right;\">\n",
       "      <th></th>\n",
       "      <th>学号</th>\n",
       "      <th>性别</th>\n",
       "      <th>身高</th>\n",
       "      <th>体重</th>\n",
       "      <th>支出</th>\n",
       "      <th>开设</th>\n",
       "      <th>课程</th>\n",
       "      <th>软件</th>\n",
       "    </tr>\n",
       "  </thead>\n",
       "  <tbody>\n",
       "    <tr>\n",
       "      <th>47</th>\n",
       "      <td>1538319004</td>\n",
       "      <td>男</td>\n",
       "      <td>175</td>\n",
       "      <td>68</td>\n",
       "      <td>44.4</td>\n",
       "      <td>不清楚</td>\n",
       "      <td>统计方法</td>\n",
       "      <td>SAS</td>\n",
       "    </tr>\n",
       "    <tr>\n",
       "      <th>48</th>\n",
       "      <td>1538254010</td>\n",
       "      <td>女</td>\n",
       "      <td>166</td>\n",
       "      <td>65</td>\n",
       "      <td>5.3</td>\n",
       "      <td>不清楚</td>\n",
       "      <td>编程技术</td>\n",
       "      <td>Python</td>\n",
       "    </tr>\n",
       "    <tr>\n",
       "      <th>49</th>\n",
       "      <td>1540294017</td>\n",
       "      <td>女</td>\n",
       "      <td>159</td>\n",
       "      <td>58</td>\n",
       "      <td>71.4</td>\n",
       "      <td>不清楚</td>\n",
       "      <td>都学习过</td>\n",
       "      <td>SPSS</td>\n",
       "    </tr>\n",
       "    <tr>\n",
       "      <th>50</th>\n",
       "      <td>1540365026</td>\n",
       "      <td>女</td>\n",
       "      <td>169</td>\n",
       "      <td>73</td>\n",
       "      <td>5.5</td>\n",
       "      <td>有必要</td>\n",
       "      <td>统计方法</td>\n",
       "      <td>Excel</td>\n",
       "    </tr>\n",
       "    <tr>\n",
       "      <th>51</th>\n",
       "      <td>1540388036</td>\n",
       "      <td>女</td>\n",
       "      <td>165</td>\n",
       "      <td>67</td>\n",
       "      <td>56.8</td>\n",
       "      <td>不必要</td>\n",
       "      <td>概率统计</td>\n",
       "      <td>SAS</td>\n",
       "    </tr>\n",
       "  </tbody>\n",
       "</table>\n",
       "</div>"
      ],
      "text/plain": [
       "            学号 性别   身高  体重    支出   开设    课程      软件\n",
       "47  1538319004  男  175  68  44.4  不清楚  统计方法     SAS\n",
       "48  1538254010  女  166  65   5.3  不清楚  编程技术  Python\n",
       "49  1540294017  女  159  58  71.4  不清楚  都学习过    SPSS\n",
       "50  1540365026  女  169  73   5.5  有必要  统计方法   Excel\n",
       "51  1540388036  女  165  67  56.8  不必要  概率统计     SAS"
      ]
     },
     "execution_count": 49,
     "metadata": {},
     "output_type": "execute_result"
    }
   ],
   "source": [
    "####1.3.4.3 数据框的读和写\n",
    "#（1）pandas读取数据集\n",
    "#BSdata=pd.read_clipboard();BSdata[:5]  #从剪切板上复制数据\n",
    "BSdata=pd.read_csv(\"BSdata.csv\",encoding='utf-8');BSdata[6:9]\n",
    "BSdata=pd.read_excel('PyDm_data.xlsx','BSdata');BSdata[-5:]\n",
    "\n"
   ]
  },
  {
   "cell_type": "code",
   "execution_count": 50,
   "metadata": {},
   "outputs": [],
   "source": [
    "#（2）pandas数据集的保存\n",
    "BSdata.to_csv('BSdata1.csv') # 将数据框BSdata存 保存到 到BSdata.csv\n",
    "\n"
   ]
  },
  {
   "cell_type": "code",
   "execution_count": 51,
   "metadata": {},
   "outputs": [
    {
     "name": "stdout",
     "output_type": "stream",
     "text": [
      "<class 'pandas.core.frame.DataFrame'>\n",
      "RangeIndex: 52 entries, 0 to 51\n",
      "Data columns (total 8 columns):\n",
      "学号    52 non-null int64\n",
      "性别    52 non-null object\n",
      "身高    52 non-null int64\n",
      "体重    52 non-null int64\n",
      "支出    52 non-null float64\n",
      "开设    52 non-null object\n",
      "课程    52 non-null object\n",
      "软件    52 non-null object\n",
      "dtypes: float64(1), int64(3), object(4)\n",
      "memory usage: 3.3+ KB\n"
     ]
    },
    {
     "data": {
      "text/plain": [
       "8"
      ]
     },
     "execution_count": 51,
     "metadata": {},
     "output_type": "execute_result"
    }
   ],
   "source": [
    "####1.3.4.4 数据框的操作\n",
    "#（1）获取数据框的基本信息\n",
    "BSdata.info()            #数据框信息\n",
    "\n",
    "BSdata.head()            #显示前5行\n",
    "BSdata.tail()            #显示后5行\n",
    "BSdata.columns           #查看列名称\n",
    "\n",
    "BSdata.index             #数据框行名\n",
    "BSdata.values            #数据框值数组\n",
    "BSdata.shape             #显示数据框的行数和列数\n",
    "BSdata.shape[0]          #数据框行数\n",
    "BSdata.shape[1]          #数据框列数\n",
    "\n"
   ]
  },
  {
   "cell_type": "code",
   "execution_count": 52,
   "metadata": {},
   "outputs": [
    {
     "data": {
      "text/html": [
       "<div>\n",
       "<style scoped>\n",
       "    .dataframe tbody tr th:only-of-type {\n",
       "        vertical-align: middle;\n",
       "    }\n",
       "\n",
       "    .dataframe tbody tr th {\n",
       "        vertical-align: top;\n",
       "    }\n",
       "\n",
       "    .dataframe thead th {\n",
       "        text-align: right;\n",
       "    }\n",
       "</style>\n",
       "<table border=\"1\" class=\"dataframe\">\n",
       "  <thead>\n",
       "    <tr style=\"text-align: right;\">\n",
       "      <th></th>\n",
       "      <th>学号</th>\n",
       "      <th>性别</th>\n",
       "      <th>身高</th>\n",
       "      <th>体重</th>\n",
       "      <th>支出</th>\n",
       "    </tr>\n",
       "  </thead>\n",
       "  <tbody>\n",
       "    <tr>\n",
       "      <th>0</th>\n",
       "      <td>1510248008</td>\n",
       "      <td>女</td>\n",
       "      <td>167</td>\n",
       "      <td>71</td>\n",
       "      <td>46.0</td>\n",
       "    </tr>\n",
       "    <tr>\n",
       "      <th>1</th>\n",
       "      <td>1510229019</td>\n",
       "      <td>男</td>\n",
       "      <td>171</td>\n",
       "      <td>68</td>\n",
       "      <td>10.4</td>\n",
       "    </tr>\n",
       "    <tr>\n",
       "      <th>2</th>\n",
       "      <td>1512108019</td>\n",
       "      <td>女</td>\n",
       "      <td>175</td>\n",
       "      <td>73</td>\n",
       "      <td>21.0</td>\n",
       "    </tr>\n",
       "  </tbody>\n",
       "</table>\n",
       "</div>"
      ],
      "text/plain": [
       "           学号 性别   身高  体重    支出\n",
       "0  1510248008  女  167  71  46.0\n",
       "1  1510229019  男  171  68  10.4\n",
       "2  1512108019  女  175  73  21.0"
      ]
     },
     "execution_count": 52,
     "metadata": {},
     "output_type": "execute_result"
    }
   ],
   "source": [
    "#（2）选取变量\n",
    "BSdata.性别              #取一列数据，BSdata['性别']\n",
    "BSdata[['身高','体重']]  #取两列数据\n",
    "BSdata[:3]               #BSdata.head(3)\n",
    "BSdata.loc[:3,['身高','体重']]\n",
    "BSdata.iloc[:3,:5]       #0到2行和1:5列数据\n",
    "\n"
   ]
  },
  {
   "cell_type": "code",
   "execution_count": 53,
   "metadata": {},
   "outputs": [
    {
     "data": {
      "text/html": [
       "<div>\n",
       "<style scoped>\n",
       "    .dataframe tbody tr th:only-of-type {\n",
       "        vertical-align: middle;\n",
       "    }\n",
       "\n",
       "    .dataframe tbody tr th {\n",
       "        vertical-align: top;\n",
       "    }\n",
       "\n",
       "    .dataframe thead th {\n",
       "        text-align: right;\n",
       "    }\n",
       "</style>\n",
       "<table border=\"1\" class=\"dataframe\">\n",
       "  <thead>\n",
       "    <tr style=\"text-align: right;\">\n",
       "      <th></th>\n",
       "      <th>学号</th>\n",
       "      <th>性别</th>\n",
       "      <th>身高</th>\n",
       "      <th>体重</th>\n",
       "      <th>支出</th>\n",
       "    </tr>\n",
       "  </thead>\n",
       "  <tbody>\n",
       "    <tr>\n",
       "      <th>0</th>\n",
       "      <td>1510248008</td>\n",
       "      <td>女</td>\n",
       "      <td>167</td>\n",
       "      <td>71</td>\n",
       "      <td>46.0</td>\n",
       "    </tr>\n",
       "    <tr>\n",
       "      <th>1</th>\n",
       "      <td>1510229019</td>\n",
       "      <td>男</td>\n",
       "      <td>171</td>\n",
       "      <td>68</td>\n",
       "      <td>10.4</td>\n",
       "    </tr>\n",
       "    <tr>\n",
       "      <th>2</th>\n",
       "      <td>1512108019</td>\n",
       "      <td>女</td>\n",
       "      <td>175</td>\n",
       "      <td>73</td>\n",
       "      <td>21.0</td>\n",
       "    </tr>\n",
       "  </tbody>\n",
       "</table>\n",
       "</div>"
      ],
      "text/plain": [
       "           学号 性别   身高  体重    支出\n",
       "0  1510248008  女  167  71  46.0\n",
       "1  1510229019  男  171  68  10.4\n",
       "2  1512108019  女  175  73  21.0"
      ]
     },
     "execution_count": 53,
     "metadata": {},
     "output_type": "execute_result"
    }
   ],
   "source": [
    "#（3）选取观测与变量\n",
    "BSdata.loc[:3,['身高','体重']]\n",
    "BSdata.iloc[:3,:5]       #0到2行和1:5列数据\n",
    "\n"
   ]
  },
  {
   "cell_type": "code",
   "execution_count": 54,
   "metadata": {},
   "outputs": [
    {
     "data": {
      "text/html": [
       "<div>\n",
       "<style scoped>\n",
       "    .dataframe tbody tr th:only-of-type {\n",
       "        vertical-align: middle;\n",
       "    }\n",
       "\n",
       "    .dataframe tbody tr th {\n",
       "        vertical-align: top;\n",
       "    }\n",
       "\n",
       "    .dataframe thead th {\n",
       "        text-align: right;\n",
       "    }\n",
       "</style>\n",
       "<table border=\"1\" class=\"dataframe\">\n",
       "  <thead>\n",
       "    <tr style=\"text-align: right;\">\n",
       "      <th></th>\n",
       "      <th>学号</th>\n",
       "      <th>性别</th>\n",
       "      <th>身高</th>\n",
       "      <th>体重</th>\n",
       "      <th>支出</th>\n",
       "      <th>开设</th>\n",
       "      <th>课程</th>\n",
       "      <th>软件</th>\n",
       "    </tr>\n",
       "  </thead>\n",
       "  <tbody>\n",
       "    <tr>\n",
       "      <th>5</th>\n",
       "      <td>1516248014</td>\n",
       "      <td>男</td>\n",
       "      <td>183</td>\n",
       "      <td>76</td>\n",
       "      <td>85.6</td>\n",
       "      <td>不必要</td>\n",
       "      <td>编程技术</td>\n",
       "      <td>Excel</td>\n",
       "    </tr>\n",
       "    <tr>\n",
       "      <th>10</th>\n",
       "      <td>1520100029</td>\n",
       "      <td>男</td>\n",
       "      <td>184</td>\n",
       "      <td>82</td>\n",
       "      <td>10.3</td>\n",
       "      <td>有必要</td>\n",
       "      <td>都学习过</td>\n",
       "      <td>SAS</td>\n",
       "    </tr>\n",
       "    <tr>\n",
       "      <th>21</th>\n",
       "      <td>1525352033</td>\n",
       "      <td>男</td>\n",
       "      <td>185</td>\n",
       "      <td>83</td>\n",
       "      <td>5.1</td>\n",
       "      <td>有必要</td>\n",
       "      <td>都学习过</td>\n",
       "      <td>SPSS</td>\n",
       "    </tr>\n",
       "    <tr>\n",
       "      <th>32</th>\n",
       "      <td>1530243029</td>\n",
       "      <td>男</td>\n",
       "      <td>186</td>\n",
       "      <td>87</td>\n",
       "      <td>9.5</td>\n",
       "      <td>不必要</td>\n",
       "      <td>都未学过</td>\n",
       "      <td>No</td>\n",
       "    </tr>\n",
       "  </tbody>\n",
       "</table>\n",
       "</div>"
      ],
      "text/plain": [
       "            学号 性别   身高  体重    支出   开设    课程     软件\n",
       "5   1516248014  男  183  76  85.6  不必要  编程技术  Excel\n",
       "10  1520100029  男  184  82  10.3  有必要  都学习过    SAS\n",
       "21  1525352033  男  185  83   5.1  有必要  都学习过   SPSS\n",
       "32  1530243029  男  186  87   9.5  不必要  都未学过     No"
      ]
     },
     "execution_count": 54,
     "metadata": {},
     "output_type": "execute_result"
    }
   ],
   "source": [
    "#（4）根据条件选取样品与变量\n",
    "BSdata[BSdata['身高']>180]\n",
    "\n"
   ]
  },
  {
   "cell_type": "code",
   "execution_count": null,
   "metadata": {},
   "outputs": [],
   "source": [
    "# (5) query法\n",
    "BSdata.query('身高>180')\n",
    "BSdata.query('身高>180 and 体重>80')\n",
    "\n"
   ]
  },
  {
   "cell_type": "code",
   "execution_count": 55,
   "metadata": {},
   "outputs": [
    {
     "data": {
      "text/html": [
       "<div>\n",
       "<style scoped>\n",
       "    .dataframe tbody tr th:only-of-type {\n",
       "        vertical-align: middle;\n",
       "    }\n",
       "\n",
       "    .dataframe tbody tr th {\n",
       "        vertical-align: top;\n",
       "    }\n",
       "\n",
       "    .dataframe thead th {\n",
       "        text-align: right;\n",
       "    }\n",
       "</style>\n",
       "<table border=\"1\" class=\"dataframe\">\n",
       "  <thead>\n",
       "    <tr style=\"text-align: right;\">\n",
       "      <th></th>\n",
       "      <th>0</th>\n",
       "      <th>1</th>\n",
       "      <th>2</th>\n",
       "    </tr>\n",
       "  </thead>\n",
       "  <tbody>\n",
       "    <tr>\n",
       "      <th>学号</th>\n",
       "      <td>1510248008</td>\n",
       "      <td>1510229019</td>\n",
       "      <td>1512108019</td>\n",
       "    </tr>\n",
       "    <tr>\n",
       "      <th>性别</th>\n",
       "      <td>女</td>\n",
       "      <td>男</td>\n",
       "      <td>女</td>\n",
       "    </tr>\n",
       "    <tr>\n",
       "      <th>身高</th>\n",
       "      <td>167</td>\n",
       "      <td>171</td>\n",
       "      <td>175</td>\n",
       "    </tr>\n",
       "    <tr>\n",
       "      <th>体重</th>\n",
       "      <td>71</td>\n",
       "      <td>68</td>\n",
       "      <td>73</td>\n",
       "    </tr>\n",
       "    <tr>\n",
       "      <th>支出</th>\n",
       "      <td>46</td>\n",
       "      <td>10.4</td>\n",
       "      <td>21</td>\n",
       "    </tr>\n",
       "  </tbody>\n",
       "</table>\n",
       "</div>"
      ],
      "text/plain": [
       "             0           1           2\n",
       "学号  1510248008  1510229019  1512108019\n",
       "性别           女           男           女\n",
       "身高         167         171         175\n",
       "体重          71          68          73\n",
       "支出          46        10.4          21"
      ]
     },
     "execution_count": 55,
     "metadata": {},
     "output_type": "execute_result"
    }
   ],
   "source": [
    "#（6）数据框的运算\n",
    "BSdata['体重指数']=BSdata['体重']/(BSdata['身高']/100)**2\n",
    "round(BSdata[:5],2)\n",
    "del BSdata['体重指数']   #删除数据列\n",
    "\n",
    "pd.concat([BSdata.身高, BSdata.体重],axis=0)\n",
    "pd.concat([BSdata.身高, BSdata.体重],axis=1)\n",
    "\n",
    "BSdata.iloc[:3,:5].T\n",
    "\n"
   ]
  },
  {
   "cell_type": "code",
   "execution_count": 56,
   "metadata": {},
   "outputs": [
    {
     "name": "stdout",
     "output_type": "stream",
     "text": [
      "1\n",
      "2\n",
      "3\n",
      "4\n",
      "当前水果 : banana\n",
      "当前水果 : apple\n",
      "当前水果 : mango\n",
      "10\n",
      "11\n",
      "12\n",
      "13\n",
      "14\n",
      "学号\n",
      "性别\n",
      "身高\n",
      "体重\n",
      "支出\n",
      "开设\n",
      "课程\n",
      "软件\n"
     ]
    }
   ],
   "source": [
    "###1.3.3 Python编程运算\n",
    "####1.3.3.1 基本运算\n",
    "####1.3.3.2 控制语句\n",
    "#（1）循环语句for\n",
    "for i in range(1,5):\n",
    "     print(i)\n",
    "\n",
    "fruits = ['banana', 'apple',  'mango']\n",
    "for fruit in fruits:\n",
    "   print('当前水果 :', fruit)\n",
    "\n",
    "for num in range(10,15):\n",
    "    print(num)\n",
    "\n",
    "for var in BSdata.columns:\n",
    "    print(var)\n",
    "\n"
   ]
  },
  {
   "cell_type": "code",
   "execution_count": null,
   "metadata": {},
   "outputs": [],
   "source": [
    "#（2）条件语句if/else\n",
    "a = -100\n",
    "if a < 100:\n",
    "    print(\"数值小于100\")\n",
    "else:\n",
    "    print(\"数值大于100\")\n",
    "\n",
    "-a if a<0 else a\n",
    "\n"
   ]
  },
  {
   "cell_type": "code",
   "execution_count": 57,
   "metadata": {},
   "outputs": [
    {
     "data": {
      "text/plain": [
       "60.0"
      ]
     },
     "execution_count": 57,
     "metadata": {},
     "output_type": "execute_result"
    }
   ],
   "source": [
    "#### 1.3.3.3 函数定义\n",
    "#### 1.3.3.4 面向对象\n",
    "x=[1,3,6,4,9,7,5,8,2]; x\n",
    "def xbar(x):\n",
    "    n=len(x)\n",
    "    xm=sum(x)/n\n",
    "    return(xm)\n",
    "\n",
    "xbar(x)\n",
    "\n",
    "np.mean(x)\n",
    "\n",
    "X=np.array([1,3,6,4,9,7,5,8,2]);X # 列表数组\n",
    "def SS1(x):\n",
    "    n=len(x)\n",
    "    ss=sum(x**2)-sum(x)**2/n\n",
    "    return(ss)\n",
    "SS1(X) #SS1(BSdata. 身高)\n",
    "\n"
   ]
  },
  {
   "cell_type": "code",
   "execution_count": 58,
   "metadata": {},
   "outputs": [
    {
     "data": {
      "text/plain": [
       "numpy.float64"
      ]
     },
     "execution_count": 58,
     "metadata": {},
     "output_type": "execute_result"
    }
   ],
   "source": [
    "def SS2(x): # 返回多个值\n",
    "    n=len(x)\n",
    "    xm=sum(x)/n\n",
    "    ss=sum(x**2)-sum(x)**2/n\n",
    "    return[x**2,n,xm,ss] #return(x**2,n,xm,ss)\n",
    "SS2(X) #SS2(BSdata. 身高)\n",
    "\n",
    "SS2(X)[0] # 取第1 个对象\n",
    "SS2(X)[1] # 取第2 个对象\n",
    "SS2(X)[2] # 取第3 个对象\n",
    "SS2(X)[3] # 取第4 个对象\n",
    "\n",
    "type(SS2(X))\n",
    "type(SS2(X)[3])"
   ]
  },
  {
   "cell_type": "code",
   "execution_count": null,
   "metadata": {},
   "outputs": [],
   "source": []
  },
  {
   "cell_type": "code",
   "execution_count": null,
   "metadata": {},
   "outputs": [],
   "source": []
  }
 ],
 "metadata": {
  "kernelspec": {
   "display_name": "Python 3",
   "language": "python",
   "name": "python3"
  },
  "language_info": {
   "codemirror_mode": {
    "name": "ipython",
    "version": 3
   },
   "file_extension": ".py",
   "mimetype": "text/x-python",
   "name": "python",
   "nbconvert_exporter": "python",
   "pygments_lexer": "ipython3",
   "version": "3.7.3"
  },
  "toc": {
   "base_numbering": 1,
   "nav_menu": {},
   "number_sections": true,
   "sideBar": true,
   "skip_h1_title": false,
   "title_cell": "Table of Contents",
   "title_sidebar": "Contents",
   "toc_cell": false,
   "toc_position": {},
   "toc_section_display": true,
   "toc_window_display": false
  }
 },
 "nbformat": 4,
 "nbformat_minor": 2
}
