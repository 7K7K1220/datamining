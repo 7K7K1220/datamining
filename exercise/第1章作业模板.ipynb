>>> {
 "cells": [
  {
   "cell_type": "markdown",
   "metadata": {},
   "source": [
    "## 《Python数据挖掘方法及应用》PyDm\n",
    "### 【第1章 数据收集与分析软件】数据与练习1 \n",
    "#### **（请在#下面问题的空白处写出代码并输出结果）**"
   ]
  },
  {
   "cell_type": "markdown",
   "metadata": {},
   "source": [
    "---"
   ]
  },
  {
   "cell_type": "markdown",
   "metadata": {},
   "source": [
    "1.1  下面有三组数据：\n",
    "\n",
    "    1, 2, 3, 4, 5 \n",
    "    a, b, c, d\n",
    "    physics, chemistry, 1997, 2000"
   ]
  },
  {
   "cell_type": "code",
   "execution_count": 1,
   "metadata": {},
   "outputs": [],
   "source": [
    "# (1)将其写入列表\n"
   ]
  },num = [1, 2, 3, 4, 5]
eng = ['a', 'b', 'c', 'd']
sources = ['physics', 'chemistry', '1997', '2000']
  {
   "cell_type": "markdown",
   "metadata": {},
   "source": [
    "# (2)将其写入字典\n"
   ]
  },num = {1, 2, 3, 4, 5}
eng = {'a', 'b', 'c', 'd'}
sources = {'physics', 'chemistry', '1997', '2000'}
  {
   "cell_type": "markdown",
   "metadata": {},
   "source": [
    "1.2  请创建下列Python数组，并计算。"
   ]
  },
  {
   "cell_type": "code",
   "execution_count": null,
   "metadata": {},
   "outputs": [],
   "source": [
    "#(1)创建一个2*2的数组，计算对角线上元素的和。\n"
   ]
  },import numpy as np
arr = np.random.randint(0,10,size=(2,2))
n1 = arr[1,2]
n2 = arr[3,4]
m = n1+n2
print(arr)
print(m)
  {
   "cell_type": "code",
   "execution_count": null,
   "metadata": {},
   "outputs": [],
   "source": [
    "#(2)创建一个长度为9的一维数据，数组元素为0～8，并将它重新变为3*3的二维数组。\n"
   ]
  },import numpy as np
arr = np.arange(9).reshape(3,3)
print(arr)
  {
   "cell_type": "code",
   "execution_count": null,
   "metadata": {},
   "outputs": [],
   "source": [
    "#(3)创建两个3*3的数组，分别将它们合并为3*6、6*3的数组后，拆分为3个数组。\n"
   ]
  },import numpy as np
arr1 = np.random.randint(0,10,size=(3,3))
arr2 = np.random.randint(0,10,size=(3,3))
arr3 = np.hstack((arr1,arr2))
arr4 = np.vstack((arr1,arr2))
arr5,arr6,arr7 = np.split(arr3,3,axis=0)
print(arr3)
print(arr4)
print(arr5)
print(arr6)
print(arr7)
  {
   "cell_type": "markdown",
   "metadata": {},
   "source": [
    "1.3  文本数据。下面有一些文本数据：\n",
    "\n",
    "     name,physics,Python,math,english\n",
    "     Google,100,100,25,12\n",
    "     Facebook,45,54,44,88\n",
    "     Twitter,54,76,13,91\n",
    "     Yahoo,54,452,26,100 "
   ]
  },
  {
   "cell_type": "code",
   "execution_count": null,
   "metadata": {},
   "outputs": [],
   "source": [
    "#(1)请将其写入列表。\n"
   ]
  },list = [['Google',100,100,25,12],['Facebook',45,54,44,88],['Twitter',54,76,13,91],['Yahoo',54,452,26,100]]
print(list)
  {
   "cell_type": "code",
   "execution_count": null,
   "metadata": {},
   "outputs": [],
   "source": [
    "#(2)请将其写入字典。\n"
   ]
  },dict = {'physics':{'Google':100,'Facebook':45,'Twitter':54,'Yahoo':54},
       'Python':{'Google':100,'Facebook':54,'Twitter':76,'Yahoo':452},
       'math':{'Google':25,'Facebook':44,'Twitter':13,'Yahoo':26},
       'english':{'Google':12,'Facebook':88,'Twitter':91,'Yahoo':100}}
  {
   "cell_type": "code",
   "execution_count": null,
   "metadata": {},
   "outputs": [],
   "source": [
    "#(3)请将其写入数据框。\n"
   ]
  },from pandas import DataFrame
dict = {'physics':{'Google':100,'Facebook':45,'Twitter':54,'Yahoo':54},
       'Python':{'Google':100,'Facebook':54,'Twitter':76,'Yahoo':452},
       'math':{'Google':25,'Facebook':44,'Twitter':13,'Yahoo':26},
       'english':{'Google':12,'Facebook':88,'Twitter':91,'Yahoo':100}}
dataframe = DataFrame(dict)
print(dataframe)
  {
   "cell_type": "code",
   "execution_count": null,
   "metadata": {},
   "outputs": [],
   "source": [
    "#(4)请将其保存到csv格式的文档，并从read_csv()函数读入Python。\n"
   ]
  },import pandas
dict = {'physics':{'Google':100,'Facebook':45,'Twitter':54,'Yahoo':54},
       'Python':{'Google':100,'Facebook':54,'Twitter':76,'Yahoo':452},
       'math':{'Google':25,'Facebook':44,'Twitter':13,'Yahoo':26},
       'english':{'Google':12,'Facebook':88,'Twitter':91,'Yahoo':100}}
dataframe = pandas.DataFrame(dict)
dataframe.to_csv("grades.csv",index=True,sep=",")
data = pandas.read_csv("grades.csv")
  {
   "cell_type": "markdown",
   "metadata": {},
   "source": [
    "1.4  调查数据。某公司对财务部门人员的抽烟状况进行调查，结果为：\n",
    "\n",
    "    否，否，否，是，是，否，否，是，否，是，否，否，是，是，否，是，否，否，是，是。"
   ]
  },
  {
   "cell_type": "code",
   "execution_count": null,
   "metadata": {},
   "outputs": [],
   "source": [
